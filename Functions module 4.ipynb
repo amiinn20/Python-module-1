{
  "nbformat": 4,
  "nbformat_minor": 0,
  "metadata": {
    "colab": {
      "provenance": []
    },
    "kernelspec": {
      "name": "python3",
      "display_name": "Python 3"
    },
    "language_info": {
      "name": "python"
    }
  },
  "cells": [
    {
      "cell_type": "markdown",
      "source": [
        "# Functions"
      ],
      "metadata": {
        "id": "cUHqI8g-PgVb"
      }
    },
    {
      "cell_type": "markdown",
      "source": [
        "1)  Write a Python function that takes a list of numbers as input and returns the sum of all even numbers in\n",
        "the list."
      ],
      "metadata": {
        "id": "r9FHovvZQckV"
      }
    },
    {
      "cell_type": "code",
      "source": [
        "def sum_of_even_numbers(numbers):\n",
        "  return sum(num for num in numbers if num % 2 == 0)"
      ],
      "metadata": {
        "id": "SBcCnbp3UzYk"
      },
      "execution_count": 26,
      "outputs": []
    },
    {
      "cell_type": "code",
      "source": [
        "sum_of_even_numbers([1,2,3,4,5,6,7,8,9])"
      ],
      "metadata": {
        "colab": {
          "base_uri": "https://localhost:8080/"
        },
        "id": "0bpP93GfVL_f",
        "outputId": "14ee9e21-8741-4f64-be8b-a53176a0e412"
      },
      "execution_count": 27,
      "outputs": [
        {
          "output_type": "execute_result",
          "data": {
            "text/plain": [
              "20"
            ]
          },
          "metadata": {},
          "execution_count": 27
        }
      ]
    },
    {
      "cell_type": "markdown",
      "source": [
        "2) Create a Python function that accepts a string and returns the reverse of that string.\n"
      ],
      "metadata": {
        "id": "xPvW6jGWVREd"
      }
    },
    {
      "cell_type": "code",
      "source": [
        "def reverse_string(input_string):\n",
        "  return input_string[::-1]"
      ],
      "metadata": {
        "id": "YP59OrW3V0c8"
      },
      "execution_count": 29,
      "outputs": []
    },
    {
      "cell_type": "code",
      "source": [
        "reverse_string(\"pwskills\")"
      ],
      "metadata": {
        "colab": {
          "base_uri": "https://localhost:8080/",
          "height": 36
        },
        "id": "_lcxiZ3GV6Od",
        "outputId": "e2ddac9e-1b3b-4649-edc1-1b9e78e2465b"
      },
      "execution_count": 31,
      "outputs": [
        {
          "output_type": "execute_result",
          "data": {
            "text/plain": [
              "'sllikswp'"
            ],
            "application/vnd.google.colaboratory.intrinsic+json": {
              "type": "string"
            }
          },
          "metadata": {},
          "execution_count": 31
        }
      ]
    },
    {
      "cell_type": "markdown",
      "source": [
        "3)  Implement a Python function that takes a list of integers and returns a new list containing the squares of\n",
        "each number."
      ],
      "metadata": {
        "id": "U0KJ89ZyWClU"
      }
    },
    {
      "cell_type": "code",
      "source": [
        "def squares_of_numbers(n):\n",
        "  result = []\n",
        "  for i in n:\n",
        "    result.append(i**2)\n",
        "  return result"
      ],
      "metadata": {
        "id": "f4JFTaf6V-7t"
      },
      "execution_count": 39,
      "outputs": []
    },
    {
      "cell_type": "code",
      "source": [
        "squares_of_numbers([2,3,4,5])"
      ],
      "metadata": {
        "colab": {
          "base_uri": "https://localhost:8080/"
        },
        "id": "FnFyD7wUWS7d",
        "outputId": "ed87f0f6-a226-4489-91f2-6e152fcf91f1"
      },
      "execution_count": 40,
      "outputs": [
        {
          "output_type": "execute_result",
          "data": {
            "text/plain": [
              "[4, 9, 16, 25]"
            ]
          },
          "metadata": {},
          "execution_count": 40
        }
      ]
    },
    {
      "cell_type": "markdown",
      "source": [
        "4) Write a Python function that checks if a given number is prime or not from 1 to 200."
      ],
      "metadata": {
        "id": "HX1KAT2eXCjs"
      }
    },
    {
      "cell_type": "code",
      "source": [
        "def is_prime(number):\n",
        "  if number <= 1:\n",
        "        return False\n",
        "  for i in range(2, int(number ** 0.5) + 1):\n",
        "        if number % i == 0:\n",
        "            return False\n",
        "  return True"
      ],
      "metadata": {
        "id": "-BY9AcfwXBBt"
      },
      "execution_count": 41,
      "outputs": []
    },
    {
      "cell_type": "code",
      "source": [
        "is_prime(200)"
      ],
      "metadata": {
        "colab": {
          "base_uri": "https://localhost:8080/"
        },
        "id": "96mBs42zXiTt",
        "outputId": "2e8fa7c1-6808-414a-d0f1-54142d503311"
      },
      "execution_count": 42,
      "outputs": [
        {
          "output_type": "execute_result",
          "data": {
            "text/plain": [
              "False"
            ]
          },
          "metadata": {},
          "execution_count": 42
        }
      ]
    },
    {
      "cell_type": "markdown",
      "source": [
        "5) Create an iterator class in Python that generates the Fibonacci sequence up to a specified number of\n",
        "terms"
      ],
      "metadata": {
        "id": "VnDfjoirXn8E"
      }
    },
    {
      "cell_type": "code",
      "source": [
        "class FibonacciIterator:\n",
        "  def __init__(self, terms):\n",
        "    self.terms = terms\n",
        "    self.a, self.b = 0, 1\n",
        "    self.count = 0\n",
        "    def __iter__(self):\n",
        "      return self\n",
        "      def __next__(self):\n",
        "        if self.count < self.terms:\n",
        "            result = self.a\n",
        "            self.a, self.b = self.b, self.a + self.b\n",
        "            self.count += 1\n",
        "            return result\n",
        "        else:\n",
        "          raise StopIteration"
      ],
      "metadata": {
        "id": "lyGUipwxXmc2"
      },
      "execution_count": 44,
      "outputs": []
    },
    {
      "cell_type": "code",
      "source": [
        "FibonacciIterator(10)"
      ],
      "metadata": {
        "colab": {
          "base_uri": "https://localhost:8080/"
        },
        "id": "vttM_UMMYy0e",
        "outputId": "b747f452-9cec-45cf-d0e7-89addc0bdbfb"
      },
      "execution_count": 46,
      "outputs": [
        {
          "output_type": "execute_result",
          "data": {
            "text/plain": [
              "<__main__.FibonacciIterator at 0x7d19b2ccb2d0>"
            ]
          },
          "metadata": {},
          "execution_count": 46
        }
      ]
    },
    {
      "cell_type": "markdown",
      "source": [
        "6) Write a generator function in Python that yields the powers of 2 up to a given exponent."
      ],
      "metadata": {
        "id": "oCgol8e7Y8Rc"
      }
    },
    {
      "cell_type": "code",
      "source": [
        "def powers_of_two(exponent):\n",
        "  for exp in range(exponent + 1):\n",
        "        yield 2 ** exp"
      ],
      "metadata": {
        "id": "HP-MgDAaY5M2"
      },
      "execution_count": 47,
      "outputs": []
    },
    {
      "cell_type": "code",
      "source": [
        "powers_of_two(2)"
      ],
      "metadata": {
        "colab": {
          "base_uri": "https://localhost:8080/"
        },
        "id": "pbt7XQRZZLEM",
        "outputId": "7917cbcc-a5e5-4d8e-bf9a-645840a4f6ce"
      },
      "execution_count": 48,
      "outputs": [
        {
          "output_type": "execute_result",
          "data": {
            "text/plain": [
              "<generator object powers_of_two at 0x7d19b2e49ee0>"
            ]
          },
          "metadata": {},
          "execution_count": 48
        }
      ]
    },
    {
      "cell_type": "markdown",
      "source": [
        "7) . Implement a generator function that reads a file line by line and yields each line as a string."
      ],
      "metadata": {
        "id": "egIrxOn1ZP22"
      }
    },
    {
      "cell_type": "code",
      "source": [
        "def read_file_line_by_line(file_path):\n",
        "    \"\"\"\n",
        "    A generator function that reads a file line by line and yields each line.\n",
        "\n",
        "    Parameters:\n",
        "    file_path (str): The path to the file to be read.\n",
        "    \"\"\"\n",
        "    with open(file_path, 'r') as file:\n",
        "        for line in file:\n",
        "            yield line.strip()"
      ],
      "metadata": {
        "id": "XkAlo_AsZNJl"
      },
      "execution_count": 49,
      "outputs": []
    },
    {
      "cell_type": "code",
      "source": [
        "read_file_line_by_line('example.txt')"
      ],
      "metadata": {
        "colab": {
          "base_uri": "https://localhost:8080/"
        },
        "id": "_mkQL7snZeAe",
        "outputId": "f39caca4-b4a3-42bd-d4c5-2939726dd3af"
      },
      "execution_count": 52,
      "outputs": [
        {
          "output_type": "execute_result",
          "data": {
            "text/plain": [
              "<generator object read_file_line_by_line at 0x7d19b2e92f20>"
            ]
          },
          "metadata": {},
          "execution_count": 52
        }
      ]
    },
    {
      "cell_type": "markdown",
      "source": [
        "8) Use a lambda function in Python to sort a list of tuples based on the second element of each tuple."
      ],
      "metadata": {
        "id": "U9vzBw6VZsZM"
      }
    },
    {
      "cell_type": "code",
      "source": [
        "tuples_list = [(1, 4), (3, 1), (5, 9), (2, 6)]\n",
        "sorted_list = sorted(tuples_list, key=lambda x: x[1])\n"
      ],
      "metadata": {
        "id": "y6OmOPTgabx9"
      },
      "execution_count": 61,
      "outputs": []
    },
    {
      "cell_type": "code",
      "source": [
        "print(sorted_list)"
      ],
      "metadata": {
        "colab": {
          "base_uri": "https://localhost:8080/"
        },
        "id": "-TxTXLUGa028",
        "outputId": "2c24bb51-a8f4-40af-d066-df8223c1a8d6"
      },
      "execution_count": 62,
      "outputs": [
        {
          "output_type": "stream",
          "name": "stdout",
          "text": [
            "[(3, 1), (1, 4), (2, 6), (5, 9)]\n"
          ]
        }
      ]
    },
    {
      "cell_type": "markdown",
      "source": [
        "9) Write a Python program that uses `map()` to convert a list of temperatures from Celsius to Fahrenheit."
      ],
      "metadata": {
        "id": "tnmt-ggwa5j8"
      }
    },
    {
      "cell_type": "code",
      "source": [
        "celsius_temps = [0, 10, 20, 30, 40, 50]\n",
        "def celsius_to_fahrenheit(celsius):\n",
        "    return (celsius * 9/5) + 32\n",
        "    fahrenheit_temps = map(celsius_to_fahrenheit, celsius_temps)\n",
        ""
      ],
      "metadata": {
        "id": "Nz4mcdY2a36u"
      },
      "execution_count": 67,
      "outputs": []
    },
    {
      "cell_type": "markdown",
      "source": [
        "10) Create a Python program that uses `filter()` to remove all the vowels from a given string."
      ],
      "metadata": {
        "id": "tAi9H7TvbjZU"
      }
    },
    {
      "cell_type": "code",
      "source": [
        "def is_not_vowel(char):\n",
        "    return char.lower() not in 'aeiou'\n",
        "    input_string = \"Hello, World!\"\n",
        "    filtered_string = ''.join(filter(is_not_vowel, input_string))\n",
        "    print(filtered_string)"
      ],
      "metadata": {
        "id": "-DBhbohSbWmW"
      },
      "execution_count": 68,
      "outputs": []
    },
    {
      "cell_type": "markdown",
      "source": [
        "11) Imagine an accounting routine used in a book shop. It works on a list with sublists, which look like this:\n",
        "\n",
        "\n",
        "\n",
        "\n",
        "\n",
        "\n",
        "\n",
        "Write a Python program, which returns a list with 2-tuples. Each tuple consists of the order number and the\n",
        "product of the price per item and the quantity. The product should be increased by 10,- € if the value of the\n",
        "order is smaller than 100,00 €.\n",
        "\n",
        "Write a Python program using lambda and map"
      ],
      "metadata": {
        "id": "ZHpnT1zYcGqU"
      }
    },
    {
      "cell_type": "code",
      "source": [
        "from functools import reduce\n",
        "orders = [ [\"34587\", \"Learning Python, Mark Lutz\", 4, 40.95],[\"98762\", \"Programming Python, Mark Lutz\", 5, 56.80],[\"77226\", \"Head First Python, Paul Barry\", 3,32.95],[\"88112\", \"Einführung in Python3, Bernd Klein\", \t3, 24.99]]\n",
        "invoice_totals = list(map(lambda x: x if x[1] >= min_order else (x[0], x[1] + 10),map(lambda x: (x[0],x[2] * x[3]), orders)))\n",
        "from functools import reduce\n",
        "orders = [ [1, (\"5464\", 4, 9.99), (\"8274\",18,12.99), (\"9744\", 9, 44.95)],[2, (\"5464\", 9, 9.99), (\"9744\", 9, 44.95)],[3, (\"5464\", 9, 9.99), (\"88112\", 11, 24.99)],[4, (\"8732\", 7, 11.99), (\"7733\",11,18.99), (\"88112\", 5, 39.95)] ]\n",
        "invoice = list(map(lambda k: k if k[1]>=100 else (k[0],k[1]+10),map(lambda x:(x[0],reduce(lambda a,b:a+b,list(map(lambda y:y[1]*y[2] ,x[1:])))),orders)))"
      ],
      "metadata": {
        "colab": {
          "base_uri": "https://localhost:8080/",
          "height": 141
        },
        "id": "rpKU2U4lcyTl",
        "outputId": "94ed49f3-7f8d-4fc2-d112-44b84113e717"
      },
      "execution_count": 73,
      "outputs": [
        {
          "output_type": "error",
          "ename": "SyntaxError",
          "evalue": "invalid non-printable character U+00A0 (<ipython-input-73-6488bb752590>, line 2)",
          "traceback": [
            "\u001b[0;36m  File \u001b[0;32m\"<ipython-input-73-6488bb752590>\"\u001b[0;36m, line \u001b[0;32m2\u001b[0m\n\u001b[0;31m    orders = [ [\"34587\", \"Learning Python, Mark Lutz\", 4, 40.95],[\"98762\", \"Programming Python, Mark Lutz\", 5, 56.80],[\"77226\", \"Head First Python, Paul Barry\", 3,32.95],[\"88112\", \"Einführung in Python3, Bernd Klein\", \t3, 24.99]]\u001b[0m\n\u001b[0m                                                                                                                                                                                                                         ^\u001b[0m\n\u001b[0;31mSyntaxError\u001b[0m\u001b[0;31m:\u001b[0m invalid non-printable character U+00A0\n"
          ]
        }
      ]
    },
    {
      "cell_type": "code",
      "source": [],
      "metadata": {
        "id": "xxKXvRHIeON8"
      },
      "execution_count": null,
      "outputs": []
    }
  ]
}