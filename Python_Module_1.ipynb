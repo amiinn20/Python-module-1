{
  "nbformat": 4,
  "nbformat_minor": 0,
  "metadata": {
    "colab": {
      "provenance": []
    },
    "kernelspec": {
      "name": "python3",
      "display_name": "Python 3"
    },
    "language_info": {
      "name": "python"
    }
  },
  "cells": [
    {
      "cell_type": "markdown",
      "source": [
        "# Python Module - 2"
      ],
      "metadata": {
        "id": "Bi_f8dScNoF-"
      }
    },
    {
      "cell_type": "markdown",
      "source": [
        "1) What is Python, and why is it popular?\n",
        "\n",
        " -> Python is programming language that is easy to understand, it is popular because of it's hoge number of libraries, versatality & widey used in data analytics, data science & Business analytics industries, It also helps in image processing, autamation etc.\n",
        "\n",
        "2) What is an interpreter in Python?\n",
        "\n",
        "-> Program that read and understand typed statement and executes it line by line in a form of code.\n",
        "\n",
        "3) What are pre-defined keywords in Python?\n",
        "\n",
        "-> Pre-defined keywords are the special words in the python that are reserved which give special meanings & cannot be used for identifiers.\n",
        "\n",
        "4) Can keywords be used as variable names?\n",
        "\n",
        "-> No keywords cannot be used as variables names.\n",
        "\n",
        "5) What is mutability in Python?\n",
        "\n",
        "-> The objects which are modifiable after creation into differnt forms such as float to integer, or integer to string and also various dictionaries & list can be edited this is called as mutubility.\n",
        "\n",
        "6) Why are lists mutable, but tuples are immutable?\n",
        "\n",
        "-> List are designed for data manipulation,They allow us to add or removing,modifying elements without creating a new object.\n",
        "\n",
        "On the other hand tuples are fixed data of items where data is unchangeable after creation.\n",
        "\n",
        "7) What is the difference between “==” and “is” operators in Python?\n",
        "\n",
        "-> \"==\" which compares the data/value of two objects and on the other hand \"is\"\n",
        "compares the identity of two objects\n",
        "for example - 2==2, x is y.\n",
        "\n",
        "8) What are logical operators in Python?\n",
        "\n",
        "-> And, or, not are the logical operators in Python.\n",
        "\n",
        "9) What is type casting in Python?\n",
        "\n",
        "-> The process of converting/changing data of value/object is called type casting in Python.\n",
        "\n",
        "10) What is the difference between implicit and explicit type casting?\n",
        "\n",
        "-> In Implicit typecasting in pyhton understand data type and automatically convert value/data into particular form eg:converting integer to float during arthematic operations. but in explicit typecasting it converts data type using inbuild function using int(),float(),str() eg:converting integer into float & string into integer (no text aor alphabet string can be converted in float or integer)\n",
        "\n",
        "11) What is the purpose of conditional statements in Python?\n",
        "\n",
        "-> conditional statements help us to code decision based on some predictions. If,elif,elseif,else & nested ifelse.\n",
        "\n",
        "12) How does the elif statement work?\n",
        "\n",
        "->elif statements work when there is multiple conditions.\n",
        "\n",
        "if \"if\" condition not satisfied or false then itjumps to elif and if \"elif\" condition satisfied it skips rest of all the code and execute elif.\n",
        "\n",
        "13) What is the difference between for and while loops?\n",
        "\n",
        "-> for loops are used for iterating over the sequence of elements, and while loops are used for executing code until the condition is met false.\n",
        "\n",
        "14) Describe a scenario where a while loop is more suitable than a for loop.\n",
        "\n",
        "-> In this case the n umber of iterations is unknown, as it depends on how long it takes for the player's health to drop to zero. A while loop checks the condition (player_health>0) after each iteration< making it more suitable for this scenario.\n",
        "-below is the coding of while loop"
      ],
      "metadata": {
        "id": "tHA-t01cO00s"
      }
    },
    {
      "cell_type": "code",
      "source": [
        "player_health = 100\n",
        "while player_health>0:\n",
        "  damage = 10\n",
        "  player_health -= damage\n",
        "  print(f\"Player's health:{player_health}\")"
      ],
      "metadata": {
        "colab": {
          "base_uri": "https://localhost:8080/"
        },
        "id": "DQn75YWzNrOu",
        "outputId": "427726f9-2939-4061-c552-63311a947ca0"
      },
      "execution_count": null,
      "outputs": [
        {
          "output_type": "stream",
          "name": "stdout",
          "text": [
            "Player's health:90\n",
            "Player's health:80\n",
            "Player's health:70\n",
            "Player's health:60\n",
            "Player's health:50\n",
            "Player's health:40\n",
            "Player's health:30\n",
            "Player's health:20\n",
            "Player's health:10\n",
            "Player's health:0\n"
          ]
        }
      ]
    },
    {
      "cell_type": "markdown",
      "source": [
        "# Practical Question"
      ],
      "metadata": {
        "id": "8Uim-q8-y1Qf"
      }
    },
    {
      "cell_type": "markdown",
      "source": [
        "1) Write a Python program to print \"Hello, World!\""
      ],
      "metadata": {
        "id": "Ap_ESxXhy7WP"
      }
    },
    {
      "cell_type": "code",
      "source": [
        "print(\"Hello world\")"
      ],
      "metadata": {
        "colab": {
          "base_uri": "https://localhost:8080/"
        },
        "id": "0_rL3v-_ysM1",
        "outputId": "15eeb9b9-1346-40f4-ede2-f8c178209b56"
      },
      "execution_count": null,
      "outputs": [
        {
          "output_type": "stream",
          "name": "stdout",
          "text": [
            "Hello world\n"
          ]
        }
      ]
    },
    {
      "cell_type": "markdown",
      "source": [
        "2) Write a Python program that displays your name and age."
      ],
      "metadata": {
        "id": "eg6m2MFszIIQ"
      }
    },
    {
      "cell_type": "code",
      "source": [
        "Name = \"Amin\"\n",
        "Age = 20\n",
        "print(\"My name is\",Name)\n",
        "print(\"My age is\",Age)"
      ],
      "metadata": {
        "colab": {
          "base_uri": "https://localhost:8080/"
        },
        "id": "50iNyVRLzGyZ",
        "outputId": "dd29cef4-bb03-491b-ac1b-9e8b9f8b3ba3"
      },
      "execution_count": null,
      "outputs": [
        {
          "output_type": "stream",
          "name": "stdout",
          "text": [
            "My name is Amin\n",
            "My age is 20\n"
          ]
        }
      ]
    },
    {
      "cell_type": "markdown",
      "source": [
        "3) Write code to print all the pre-defined keywords in Python using the keyword library."
      ],
      "metadata": {
        "id": "C_J6FhizzadH"
      }
    },
    {
      "cell_type": "code",
      "source": [
        "help(\"keywords\")"
      ],
      "metadata": {
        "colab": {
          "base_uri": "https://localhost:8080/"
        },
        "id": "X1Be48fqzY8Y",
        "outputId": "fea63ece-75c9-4e13-a1b5-c4cecebb4a15"
      },
      "execution_count": null,
      "outputs": [
        {
          "output_type": "stream",
          "name": "stdout",
          "text": [
            "\n",
            "Here is a list of the Python keywords.  Enter any keyword to get more help.\n",
            "\n",
            "False               class               from                or\n",
            "None                continue            global              pass\n",
            "True                def                 if                  raise\n",
            "and                 del                 import              return\n",
            "as                  elif                in                  try\n",
            "assert              else                is                  while\n",
            "async               except              lambda              with\n",
            "await               finally             nonlocal            yield\n",
            "break               for                 not                 \n",
            "\n"
          ]
        }
      ]
    },
    {
      "cell_type": "markdown",
      "source": [
        "4) Write a program that checks if a given word is a Python keyword."
      ],
      "metadata": {
        "id": "Ku1K2kw_0a-_"
      }
    },
    {
      "cell_type": "code",
      "source": [
        "keyword = None\n",
        "if None is keyword:\n",
        "  print(\"It is an keyword\")\n",
        "else:\n",
        "  print(\"It is not an keyword\")"
      ],
      "metadata": {
        "colab": {
          "base_uri": "https://localhost:8080/"
        },
        "id": "Bf3XL6Gs1YbS",
        "outputId": "dda3efa6-62ae-4738-c162-0695d9164446"
      },
      "execution_count": null,
      "outputs": [
        {
          "output_type": "stream",
          "name": "stdout",
          "text": [
            "It is not an keyword\n"
          ]
        }
      ]
    },
    {
      "cell_type": "markdown",
      "source": [
        "5) Create a list and tuple in Python, and demonstrate how attempting to change an element works differently\n",
        "for each."
      ],
      "metadata": {
        "id": "GeH0IEaR2NkQ"
      }
    },
    {
      "cell_type": "code",
      "source": [
        "my_list = [10,20,30,40,50]\n",
        "my_tuple = (11,12,13,14,15)\n",
        "print(\"Before modifying list:\",my_list)\n",
        "my_list[2] = 200\n",
        "print(\"After modifying tuple:\",my_list)\n",
        "print(\"Before modifying tuple:\",my_tuple)\n",
        "try:\n",
        "    my_tuple[12] = 112\n",
        "except TypeError as e:\n",
        "    print(f\"Error While modifying tuple:{e}\")\n"
      ],
      "metadata": {
        "colab": {
          "base_uri": "https://localhost:8080/"
        },
        "id": "PVqNFc-21-gK",
        "outputId": "5f268402-5b15-4d8b-f114-7f69077574c4"
      },
      "execution_count": null,
      "outputs": [
        {
          "output_type": "stream",
          "name": "stdout",
          "text": [
            "Before modifying list: [10, 20, 30, 40, 50]\n",
            "After modifying tuple: [10, 20, 200, 40, 50]\n",
            "Before modifying tuple: (11, 12, 13, 14, 15)\n",
            "Error While modifying tuple:'tuple' object does not support item assignment\n"
          ]
        }
      ]
    },
    {
      "cell_type": "markdown",
      "source": [
        "6) Write a function to demonstrate the behavior of mutable and immutable arguments."
      ],
      "metadata": {
        "id": "5iyCUrc14Uwa"
      }
    },
    {
      "cell_type": "code",
      "source": [
        "#mutable\n",
        "list_container = [1,2,3,4,5,6,7,8,9,10]\n",
        "list_container[-2] = 22\n",
        "list_container"
      ],
      "metadata": {
        "colab": {
          "base_uri": "https://localhost:8080/"
        },
        "id": "6qJjMKRJ4CZT",
        "outputId": "6ec023c5-db2d-440e-eb39-a836c975faef"
      },
      "execution_count": null,
      "outputs": [
        {
          "output_type": "execute_result",
          "data": {
            "text/plain": [
              "[1, 2, 3, 4, 5, 6, 7, 8, 22, 10]"
            ]
          },
          "metadata": {},
          "execution_count": 18
        }
      ]
    },
    {
      "cell_type": "code",
      "source": [
        "from re import A\n",
        "#immutable\n",
        "K = \"pwskills\"\n",
        "K[1] = S\n",
        "K ="
      ],
      "metadata": {
        "colab": {
          "base_uri": "https://localhost:8080/",
          "height": 106
        },
        "id": "boZ3e5Kr5cK7",
        "outputId": "f5063c7f-cdef-45b6-9e49-d78bcc63b813"
      },
      "execution_count": null,
      "outputs": [
        {
          "output_type": "error",
          "ename": "SyntaxError",
          "evalue": "invalid syntax (<ipython-input-25-d0290892f878>, line 5)",
          "traceback": [
            "\u001b[0;36m  File \u001b[0;32m\"<ipython-input-25-d0290892f878>\"\u001b[0;36m, line \u001b[0;32m5\u001b[0m\n\u001b[0;31m    K =\u001b[0m\n\u001b[0m       ^\u001b[0m\n\u001b[0;31mSyntaxError\u001b[0m\u001b[0;31m:\u001b[0m invalid syntax\n"
          ]
        }
      ]
    },
    {
      "cell_type": "markdown",
      "source": [
        "-> Mutable objects are modifiable they can be able to modified after edit, but Immutable objects like string cant't be editable or modifiable after creation"
      ],
      "metadata": {
        "id": "BqEZ7S9m6vIw"
      }
    },
    {
      "cell_type": "markdown",
      "source": [
        "7) Write a program to demonstrate the use of logical operators."
      ],
      "metadata": {
        "id": "3KEBYxO-7O45"
      }
    },
    {
      "cell_type": "code",
      "source": [
        "A = True\n",
        "B = True\n",
        "if A and B:\n",
        "  print(\"Both A and B are True\")\n",
        "else:\n",
        "    print(\"Either A or B is False\")"
      ],
      "metadata": {
        "colab": {
          "base_uri": "https://localhost:8080/"
        },
        "id": "VOh41al29xFb",
        "outputId": "b356a5d5-ba31-47a0-93a8-432d362a4ecc"
      },
      "execution_count": null,
      "outputs": [
        {
          "output_type": "stream",
          "name": "stdout",
          "text": [
            "Both A and B are True\n"
          ]
        }
      ]
    },
    {
      "cell_type": "code",
      "source": [
        "#or operator\n",
        "A = False\n",
        "B = False\n",
        "if A or B:\n",
        "  print(\"There can be atleast one A and B is True\")\n",
        "else:\n",
        "  print(\"Either A or B is False\")\n"
      ],
      "metadata": {
        "colab": {
          "base_uri": "https://localhost:8080/"
        },
        "id": "JAngBxXT-8Ly",
        "outputId": "aa11edef-652b-4788-9454-6efb4fe87b98"
      },
      "execution_count": null,
      "outputs": [
        {
          "output_type": "stream",
          "name": "stdout",
          "text": [
            "Either A or B is False\n"
          ]
        }
      ]
    },
    {
      "cell_type": "markdown",
      "source": [
        "8) Write a Python program to convert user input from string to integer, float, and boolean types.\n",
        "\n",
        "a = 2"
      ],
      "metadata": {
        "id": "8mU6SHN8AxkR"
      }
    },
    {
      "cell_type": "code",
      "source": [
        "a = float\n",
        "a"
      ],
      "metadata": {
        "colab": {
          "base_uri": "https://localhost:8080/"
        },
        "id": "OHn6h6qoJcP6",
        "outputId": "90bc0b0e-0457-4b79-bece-d14271dc899d"
      },
      "execution_count": null,
      "outputs": [
        {
          "output_type": "execute_result",
          "data": {
            "text/plain": [
              "2.0"
            ]
          },
          "metadata": {},
          "execution_count": 67
        }
      ]
    },
    {
      "cell_type": "code",
      "source": [
        "a = str\n",
        "a"
      ],
      "metadata": {
        "colab": {
          "base_uri": "https://localhost:8080/",
          "height": 36
        },
        "id": "rGlwKBBfJ2Xj",
        "outputId": "47109043-576a-4f64-9f28-3ae198771343"
      },
      "execution_count": null,
      "outputs": [
        {
          "output_type": "execute_result",
          "data": {
            "text/plain": [
              "'2.0'"
            ],
            "application/vnd.google.colaboratory.intrinsic+json": {
              "type": "string"
            }
          },
          "metadata": {},
          "execution_count": 68
        }
      ]
    },
    {
      "cell_type": "code",
      "source": [
        "a = False\n",
        "a"
      ],
      "metadata": {
        "colab": {
          "base_uri": "https://localhost:8080/"
        },
        "id": "uiYQAQNwJ6qy",
        "outputId": "384fe320-3acf-4eaa-bc38-f5abe1eba855"
      },
      "execution_count": null,
      "outputs": [
        {
          "output_type": "execute_result",
          "data": {
            "text/plain": [
              "False"
            ]
          },
          "metadata": {},
          "execution_count": 72
        }
      ]
    },
    {
      "cell_type": "code",
      "source": [
        "a = True\n",
        "a"
      ],
      "metadata": {
        "colab": {
          "base_uri": "https://localhost:8080/"
        },
        "id": "_Jy741_7KHBy",
        "outputId": "bf79bdfd-4557-4bd8-f104-9802123489fe"
      },
      "execution_count": null,
      "outputs": [
        {
          "output_type": "execute_result",
          "data": {
            "text/plain": [
              "True"
            ]
          },
          "metadata": {},
          "execution_count": 73
        }
      ]
    },
    {
      "cell_type": "markdown",
      "source": [
        "9) Write code to demonstrate type casting with list elements."
      ],
      "metadata": {
        "id": "AP5ccOejKgIT"
      }
    },
    {
      "cell_type": "code",
      "source": [],
      "metadata": {
        "id": "NiSrWZyBX1o0"
      },
      "execution_count": null,
      "outputs": []
    },
    {
      "cell_type": "markdown",
      "source": [
        "10) Write a program that checks if a number is positive, negative, or zero"
      ],
      "metadata": {
        "id": "1XbjA8lxYFJz"
      }
    },
    {
      "cell_type": "code",
      "source": [
        "a = 10\n",
        "if a>0:\n",
        "    print(\"This is an positive number\")\n",
        "elif a<0:\n",
        "    print(\"This is an negative number\")\n",
        "else:\n",
        "    print(\"The number is zero\")"
      ],
      "metadata": {
        "colab": {
          "base_uri": "https://localhost:8080/"
        },
        "id": "__X289EMdj_c",
        "outputId": "1faedde4-e605-4172-fc2a-ad6b4c28cb75"
      },
      "execution_count": null,
      "outputs": [
        {
          "output_type": "stream",
          "name": "stdout",
          "text": [
            "This is an positive number\n"
          ]
        }
      ]
    },
    {
      "cell_type": "markdown",
      "source": [
        "11) Write a for loop to print numbers from 1 to 10.\n"
      ],
      "metadata": {
        "id": "IJBOow_KeF3s"
      }
    },
    {
      "cell_type": "code",
      "source": [
        "for i in range(0,10):\n",
        "    print(i)\n",
        "    # On jupyter it is giving output but not here.\n"
      ],
      "metadata": {
        "colab": {
          "base_uri": "https://localhost:8080/",
          "height": 176
        },
        "id": "uokseYYzgJMs",
        "outputId": "588e8e01-1ec5-4b2b-e824-fc21f12b478c"
      },
      "execution_count": 114,
      "outputs": [
        {
          "output_type": "error",
          "ename": "TypeError",
          "evalue": "'tuple' object is not callable",
          "traceback": [
            "\u001b[0;31m---------------------------------------------------------------------------\u001b[0m",
            "\u001b[0;31mTypeError\u001b[0m                                 Traceback (most recent call last)",
            "\u001b[0;32m<ipython-input-114-0298e0f0f04d>\u001b[0m in \u001b[0;36m<cell line: 1>\u001b[0;34m()\u001b[0m\n\u001b[0;32m----> 1\u001b[0;31m \u001b[0;32mfor\u001b[0m \u001b[0mi\u001b[0m \u001b[0;32min\u001b[0m \u001b[0mrange\u001b[0m\u001b[0;34m(\u001b[0m\u001b[0;36m0\u001b[0m\u001b[0;34m,\u001b[0m\u001b[0;36m10\u001b[0m\u001b[0;34m)\u001b[0m\u001b[0;34m:\u001b[0m\u001b[0;34m\u001b[0m\u001b[0;34m\u001b[0m\u001b[0m\n\u001b[0m\u001b[1;32m      2\u001b[0m     \u001b[0mprint\u001b[0m\u001b[0;34m(\u001b[0m\u001b[0mi\u001b[0m\u001b[0;34m)\u001b[0m\u001b[0;34m\u001b[0m\u001b[0;34m\u001b[0m\u001b[0m\n\u001b[1;32m      3\u001b[0m \u001b[0;34m\u001b[0m\u001b[0m\n",
            "\u001b[0;31mTypeError\u001b[0m: 'tuple' object is not callable"
          ]
        }
      ]
    },
    {
      "cell_type": "code",
      "source": [],
      "metadata": {
        "id": "eF8LfIlRgVlV"
      },
      "execution_count": null,
      "outputs": []
    },
    {
      "cell_type": "markdown",
      "source": [
        "12) Write a Python program to find the sum of all even numbers between 1 and 50.\n",
        "\n",
        "- not giving answer in google collab but in jupyter notebook it gives the answer\n",
        "\n"
      ],
      "metadata": {
        "id": "umNTr1m5gmH6"
      }
    },
    {
      "cell_type": "code",
      "source": [
        "sum_of_evens = 0\n",
        "for number in range(1, 51):\n",
        "    if number % 2 == 0:\n",
        "        sum_of_evens += number\n",
        "print(f\"The sum of all even numbers between 1 and 50 is: {sum_of_evens}\")"
      ],
      "metadata": {
        "colab": {
          "base_uri": "https://localhost:8080/",
          "height": 211
        },
        "id": "-lMga9TjhIXd",
        "outputId": "683f4483-2384-4f6f-f64a-4c80c98175aa"
      },
      "execution_count": 118,
      "outputs": [
        {
          "output_type": "error",
          "ename": "TypeError",
          "evalue": "'tuple' object is not callable",
          "traceback": [
            "\u001b[0;31m---------------------------------------------------------------------------\u001b[0m",
            "\u001b[0;31mTypeError\u001b[0m                                 Traceback (most recent call last)",
            "\u001b[0;32m<ipython-input-118-c486d2502a54>\u001b[0m in \u001b[0;36m<cell line: 2>\u001b[0;34m()\u001b[0m\n\u001b[1;32m      1\u001b[0m \u001b[0msum_of_evens\u001b[0m \u001b[0;34m=\u001b[0m \u001b[0;36m0\u001b[0m\u001b[0;34m\u001b[0m\u001b[0;34m\u001b[0m\u001b[0m\n\u001b[0;32m----> 2\u001b[0;31m \u001b[0;32mfor\u001b[0m \u001b[0mnumber\u001b[0m \u001b[0;32min\u001b[0m \u001b[0mrange\u001b[0m\u001b[0;34m(\u001b[0m\u001b[0;36m1\u001b[0m\u001b[0;34m,\u001b[0m \u001b[0;36m51\u001b[0m\u001b[0;34m)\u001b[0m\u001b[0;34m:\u001b[0m\u001b[0;34m\u001b[0m\u001b[0;34m\u001b[0m\u001b[0m\n\u001b[0m\u001b[1;32m      3\u001b[0m     \u001b[0;32mif\u001b[0m \u001b[0mnumber\u001b[0m \u001b[0;34m%\u001b[0m \u001b[0;36m2\u001b[0m \u001b[0;34m==\u001b[0m \u001b[0;36m0\u001b[0m\u001b[0;34m:\u001b[0m\u001b[0;34m\u001b[0m\u001b[0;34m\u001b[0m\u001b[0m\n\u001b[1;32m      4\u001b[0m         \u001b[0msum_of_evens\u001b[0m \u001b[0;34m+=\u001b[0m \u001b[0mnumber\u001b[0m\u001b[0;34m\u001b[0m\u001b[0;34m\u001b[0m\u001b[0m\n\u001b[1;32m      5\u001b[0m \u001b[0mprint\u001b[0m\u001b[0;34m(\u001b[0m\u001b[0;34mf\"The sum of all even numbers between 1 and 50 is: {sum_of_evens}\"\u001b[0m\u001b[0;34m)\u001b[0m\u001b[0;34m\u001b[0m\u001b[0;34m\u001b[0m\u001b[0m\n",
            "\u001b[0;31mTypeError\u001b[0m: 'tuple' object is not callable"
          ]
        }
      ]
    },
    {
      "cell_type": "markdown",
      "source": [
        "13) Write a program to reverse a string using a while loop."
      ],
      "metadata": {
        "id": "VEOg8zMRibhr"
      }
    },
    {
      "cell_type": "code",
      "source": [],
      "metadata": {
        "id": "Mo_m7VIClVxy"
      },
      "execution_count": null,
      "outputs": []
    },
    {
      "cell_type": "markdown",
      "source": [
        "14) Write a Python program to calculate the factorial of a number provided by the user using a while loop.\n"
      ],
      "metadata": {
        "id": "W_qjbCxujGmT"
      }
    },
    {
      "cell_type": "code",
      "source": [
        "3+4*2"
      ],
      "metadata": {
        "colab": {
          "base_uri": "https://localhost:8080/"
        },
        "id": "aZWrKmnDjfib",
        "outputId": "793c96b0-49b5-4deb-8956-570a6ac19042"
      },
      "execution_count": 124,
      "outputs": [
        {
          "output_type": "execute_result",
          "data": {
            "text/plain": [
              "11"
            ]
          },
          "metadata": {},
          "execution_count": 124
        }
      ]
    },
    {
      "cell_type": "code",
      "source": [],
      "metadata": {
        "id": "YZayXUaomPf0"
      },
      "execution_count": null,
      "outputs": []
    }
  ]
}