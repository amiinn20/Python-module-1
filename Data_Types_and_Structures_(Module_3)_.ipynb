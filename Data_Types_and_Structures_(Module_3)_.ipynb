{
  "nbformat": 4,
  "nbformat_minor": 0,
  "metadata": {
    "colab": {
      "provenance": []
    },
    "kernelspec": {
      "name": "python3",
      "display_name": "Python 3"
    },
    "language_info": {
      "name": "python"
    }
  },
  "cells": [
    {
      "cell_type": "code",
      "execution_count": null,
      "metadata": {
        "id": "3DMejFya-09V"
      },
      "outputs": [],
      "source": []
    },
    {
      "cell_type": "markdown",
      "source": [
        "# Data Types and Structures (Module - 3)"
      ],
      "metadata": {
        "id": "7vkCM5YX-5fo"
      }
    },
    {
      "cell_type": "code",
      "source": [],
      "metadata": {
        "id": "5Xrhv68y--O4"
      },
      "execution_count": null,
      "outputs": []
    },
    {
      "cell_type": "markdown",
      "source": [
        "1) What are data structures, and why are they important?\n",
        "\n",
        "-> Data Structure are specialized form of arranging,Selecting & accessing collections od data.Choosing the right data structure help us run the program smoothly and efficiency\n",
        "\n",
        "2) Explain the difference between mutable and immutable data types with examples?\n",
        "\n",
        "-> Mutable Data types - This data types allows to edit or change the elements inside the data after they are created. eg:- list,sets.\n",
        "\n",
        "Immutable data types - This data type doesn't allow us to edit or change the change the element after creating them but we can replace them.eg:- tuples,strings.\n",
        "\n",
        "3)What are the main differences between lists and tuples in Python?\n",
        "\n",
        "-> List is mutable in nature,were as Tuples are immutable in nature.We can access list after they are created, but we can't access tuples after theyare created.\n",
        "\n",
        "4)Describe how dictionaries store data?\n",
        "\n",
        "-> Dictionaries store data in key and value pairs, we can access data/value throgh the help of keys,Keys are the unique object created in the dictionaries.\n",
        "\n",
        "5)Why might you use a set instead of a list in Python?\n",
        "\n",
        "-> Because set gives an unique value which help us to identify the data easily, no duplicate value is stored in sets and also there is no recurring of elements in the sets.\n",
        "\n",
        "6)What is a string in Python, and how is it different from a list?\n",
        "\n",
        "-> Characters arrange in an unchangeable order,accepted as writing a sentence,paragraph,piece of material. In list there we can store number of data and it is editabe/changeable in nature where strings are not changeable in nature.\n",
        "\n",
        "7)How do tuples ensure data integrity in Python?\n",
        "\n",
        "-> Tuples are immutable in nature so they ensure that there data remains constant and reliable.\n",
        "\n",
        "8)What is a hash table, and how does it relate to dictionaries in Python?\n",
        "\n",
        "-> Hash table is a data structure that stores key-value pairs, and Python dictionaries are implemented as hash tables\n",
        "\n",
        "9)Can lists contain different data types in Python?\n",
        "\n",
        "-> Yes lists contain different data types in Python,because list is an heterogenus type of data it can store any type of data,value,object,intiger,string etc.\n",
        "\n",
        "10) Explain why strings are immutable in Python.\n",
        "\n",
        "-> Python Strings are immutable because they can't change after they are created it prevent form altering the values.\n",
        "\n",
        "11)What advantages do dictionaries offer over lists for certain tasks?\n",
        "\n",
        "-> Dictionaries offer unique key value pair which has every unique pair as an identifier, on the other hand list don't offer such things, Dictionary we can access the data easily where in list does not.\n",
        "\n",
        "12)Describe a scenario where using a tuple would be preferable over a list.\n",
        "\n",
        "-> If we want to create adhaar card or pan card tuple is the best form that because in adhaar we get unique indentification number and it is confidential and no can use or make changes in that, so tuples are immutable in nature can't be edited nor changes this will prevent attackers to edit/make changes in adhaar identification number therefore tuple would be more preferable than list because listis mutable in nature.\n",
        "\n",
        "13)How do sets handle duplicate values in Python?\n",
        "\n",
        "-> They will bypass the value and give single and unique value, there be no any type of duplicate value will be provided by the sets.\n",
        "\n",
        "14)How does the “in” keyword work differently for lists and dictionaries?\n",
        "\n",
        "-> Lists: in checks if an element is in the list.\n",
        "\n",
        "Dictionaries: in checks if a key is in the dictionary. Use .values() or .items() for more specific checks.\n",
        "\n",
        "15)Can you modify the elements of a tuple? Explain why or why not.\n",
        "\n",
        "-> No, we cannot modify the elements in Tuples because tuple is an immutable type of data structure, where we can't change/modify it but we can replace it through another element.\n",
        "\n",
        "16)What is a nested dictionary, and give an example of its use case?\n",
        "\n",
        "-> Nested Dictionary is the dictionary where the another dictionary is created/stored inside in the dictionary form.Nested dictionaries are also a powerful and flexible way to work with multi-level data structures.\n",
        "\n",
        "nested_dict = {\n",
        "    \"key1\": {\n",
        "        \"subkey1\": \"value1\",\n",
        "        \"subkey2\": \"value2\"\n",
        "    },\n",
        "    \"key2\": {\n",
        "        \"subkey3\": \"value3\",\n",
        "        \"subkey4\": \"value4\"\n",
        "    }\n",
        "}\n",
        "\n",
        "17)Describe the time complexity of accessing elements in a dictionary?\n",
        "\n",
        "-> Dictionaries are very easy to gandle or access which gives us unique pairs of keys and values which can be access smoothly, They are unique pairs with unique indentifiers, this help us get the data as efficiently as fast.\n",
        "\n",
        "18) In what situations are lists preferred over dictionaries?\n",
        "\n",
        "-> List are heterogenus type data structure which help us tu store various data whereas dictionary conatins unique key value pair which dont have duplicate or recurring type of elements, and list is also easy to access & mutable in nature to same like sets, list can be modified or editable easily after they are created.\n",
        "\n",
        "19)Why are dictionaries considered unordered, and how does that affect data retrieval?\n",
        "\n",
        "-> Dictionaries considered unordered, because elements are not stored in correct order and Data Retrieval Key-based retrieval remains efficient and unaffected by order.\n",
        "\n",
        "20)Explain the difference between a list and a dictionary in terms of data retrieval.\n",
        "\n",
        "->Lists: Use lists when you need ordered collections and want to access elements by their position.\n",
        "\n",
        "Dictionaries: Use dictionaries when you need a mapping between keys and values, and efficient key-based lookups are essential.\n"
      ],
      "metadata": {
        "id": "WdG85nzT-_Wf"
      }
    },
    {
      "cell_type": "code",
      "source": [],
      "metadata": {
        "id": "jJuWRJ87CZvn"
      },
      "execution_count": null,
      "outputs": []
    },
    {
      "cell_type": "markdown",
      "source": [
        "# Practical Questions\n"
      ],
      "metadata": {
        "id": "4OO3SUhwObhv"
      }
    },
    {
      "cell_type": "markdown",
      "source": [
        "1) Write a code to create a string with your name and print it"
      ],
      "metadata": {
        "id": "pzTuckWHOodX"
      }
    },
    {
      "cell_type": "code",
      "source": [
        "Name = input(\"Enter your name: \")"
      ],
      "metadata": {
        "colab": {
          "base_uri": "https://localhost:8080/"
        },
        "id": "nCWjA1IyO0kf",
        "outputId": "39d9a156-3c62-4a65-d5ae-c1fdc0656821"
      },
      "execution_count": 2,
      "outputs": [
        {
          "name": "stdout",
          "output_type": "stream",
          "text": [
            "Enter your name: Amin\n"
          ]
        }
      ]
    },
    {
      "cell_type": "markdown",
      "source": [
        "2) Write a code to find the length of the string \"Hello World\"?"
      ],
      "metadata": {
        "id": "JLDXTPUDPCdO"
      }
    },
    {
      "cell_type": "code",
      "source": [
        "A = \"Hello World\""
      ],
      "metadata": {
        "id": "LJf99R6VO5aB"
      },
      "execution_count": 3,
      "outputs": []
    },
    {
      "cell_type": "code",
      "source": [
        "A"
      ],
      "metadata": {
        "colab": {
          "base_uri": "https://localhost:8080/",
          "height": 36
        },
        "id": "vzmF12fRPOvY",
        "outputId": "83f8e82f-73ea-4d67-8c2a-d9eb2d537777"
      },
      "execution_count": 4,
      "outputs": [
        {
          "output_type": "execute_result",
          "data": {
            "text/plain": [
              "'Hello World'"
            ],
            "application/vnd.google.colaboratory.intrinsic+json": {
              "type": "string"
            }
          },
          "metadata": {},
          "execution_count": 4
        }
      ]
    },
    {
      "cell_type": "code",
      "source": [
        "len(A)"
      ],
      "metadata": {
        "colab": {
          "base_uri": "https://localhost:8080/"
        },
        "id": "JtvAKHvoPPMJ",
        "outputId": "9f4de1c6-ea35-4f68-a6de-8edf12db88c0"
      },
      "execution_count": 5,
      "outputs": [
        {
          "output_type": "execute_result",
          "data": {
            "text/plain": [
              "11"
            ]
          },
          "metadata": {},
          "execution_count": 5
        }
      ]
    },
    {
      "cell_type": "markdown",
      "source": [
        "3) Write a code to slice the first 3 characters from the string \"Python Programming\"?"
      ],
      "metadata": {
        "id": "AJAxic-gPSZH"
      }
    },
    {
      "cell_type": "code",
      "source": [
        "A = \"Python Programming\""
      ],
      "metadata": {
        "id": "ybWh57YAPRUn"
      },
      "execution_count": 10,
      "outputs": []
    },
    {
      "cell_type": "code",
      "source": [
        "A"
      ],
      "metadata": {
        "colab": {
          "base_uri": "https://localhost:8080/",
          "height": 36
        },
        "id": "QJ6IOBkIPd_P",
        "outputId": "4c1e4cf0-b3b0-45c1-d7a2-349cb20e140b"
      },
      "execution_count": 11,
      "outputs": [
        {
          "output_type": "execute_result",
          "data": {
            "text/plain": [
              "'Python Programming'"
            ],
            "application/vnd.google.colaboratory.intrinsic+json": {
              "type": "string"
            }
          },
          "metadata": {},
          "execution_count": 11
        }
      ]
    },
    {
      "cell_type": "code",
      "source": [
        "A[0:3]"
      ],
      "metadata": {
        "colab": {
          "base_uri": "https://localhost:8080/",
          "height": 36
        },
        "id": "tEnHg9ZhPere",
        "outputId": "98e42864-d832-42b0-e682-65d30136255a"
      },
      "execution_count": 12,
      "outputs": [
        {
          "output_type": "execute_result",
          "data": {
            "text/plain": [
              "'Pyt'"
            ],
            "application/vnd.google.colaboratory.intrinsic+json": {
              "type": "string"
            }
          },
          "metadata": {},
          "execution_count": 12
        }
      ]
    },
    {
      "cell_type": "markdown",
      "source": [
        "4) Write a code to convert the string \"hello\" to uppercase?"
      ],
      "metadata": {
        "id": "xT8AM_eQPrVm"
      }
    },
    {
      "cell_type": "code",
      "source": [
        "A = \"hello\""
      ],
      "metadata": {
        "id": "VmybKMxWPp-Q"
      },
      "execution_count": 13,
      "outputs": []
    },
    {
      "cell_type": "code",
      "source": [
        "A"
      ],
      "metadata": {
        "colab": {
          "base_uri": "https://localhost:8080/",
          "height": 36
        },
        "id": "oihMdD-jPzUf",
        "outputId": "120962b3-dc05-4990-c331-908a6e1c8ddf"
      },
      "execution_count": 14,
      "outputs": [
        {
          "output_type": "execute_result",
          "data": {
            "text/plain": [
              "'hello'"
            ],
            "application/vnd.google.colaboratory.intrinsic+json": {
              "type": "string"
            }
          },
          "metadata": {},
          "execution_count": 14
        }
      ]
    },
    {
      "cell_type": "code",
      "source": [
        "A.upper()"
      ],
      "metadata": {
        "colab": {
          "base_uri": "https://localhost:8080/",
          "height": 36
        },
        "id": "kwuBLJZJPznm",
        "outputId": "935f6176-fd1d-43f6-b7e7-c9fce5b7798d"
      },
      "execution_count": 15,
      "outputs": [
        {
          "output_type": "execute_result",
          "data": {
            "text/plain": [
              "'HELLO'"
            ],
            "application/vnd.google.colaboratory.intrinsic+json": {
              "type": "string"
            }
          },
          "metadata": {},
          "execution_count": 15
        }
      ]
    },
    {
      "cell_type": "markdown",
      "source": [
        "5)  Write a code to replace the word \"apple\" with \"orange\" in the string \"I like apple\"?"
      ],
      "metadata": {
        "id": "zhaUXvEvP3JH"
      }
    },
    {
      "cell_type": "code",
      "source": [
        "A = \"I like apple\""
      ],
      "metadata": {
        "id": "hdy0hLBoP1ee"
      },
      "execution_count": 16,
      "outputs": []
    },
    {
      "cell_type": "code",
      "source": [
        "A"
      ],
      "metadata": {
        "colab": {
          "base_uri": "https://localhost:8080/",
          "height": 36
        },
        "id": "zSnkCGWyQB8p",
        "outputId": "2b50c1dd-a837-4cf2-f741-21c2802408a6"
      },
      "execution_count": 17,
      "outputs": [
        {
          "output_type": "execute_result",
          "data": {
            "text/plain": [
              "'I like apple'"
            ],
            "application/vnd.google.colaboratory.intrinsic+json": {
              "type": "string"
            }
          },
          "metadata": {},
          "execution_count": 17
        }
      ]
    },
    {
      "cell_type": "code",
      "source": [
        "A.replace(\"apple\",\"orange\")"
      ],
      "metadata": {
        "colab": {
          "base_uri": "https://localhost:8080/",
          "height": 36
        },
        "id": "-1sIu0c0QCq4",
        "outputId": "531bbf5f-7887-40fb-997d-1e66d4779193"
      },
      "execution_count": 19,
      "outputs": [
        {
          "output_type": "execute_result",
          "data": {
            "text/plain": [
              "'I like orange'"
            ],
            "application/vnd.google.colaboratory.intrinsic+json": {
              "type": "string"
            }
          },
          "metadata": {},
          "execution_count": 19
        }
      ]
    },
    {
      "cell_type": "markdown",
      "source": [
        "6) Write a code to create a list with numbers 1 to 5 and print it?"
      ],
      "metadata": {
        "id": "Hirgy8puQfXf"
      }
    },
    {
      "cell_type": "code",
      "source": [
        "List = [1,2,3,4,5]\n"
      ],
      "metadata": {
        "id": "xUJVTi8oQcZn"
      },
      "execution_count": 21,
      "outputs": []
    },
    {
      "cell_type": "code",
      "source": [
        "List"
      ],
      "metadata": {
        "colab": {
          "base_uri": "https://localhost:8080/"
        },
        "id": "oeTjaosyQmxf",
        "outputId": "979ffc93-70a2-40b3-f82c-ee8120530ba8"
      },
      "execution_count": 22,
      "outputs": [
        {
          "output_type": "execute_result",
          "data": {
            "text/plain": [
              "[1, 2, 3, 4, 5]"
            ]
          },
          "metadata": {},
          "execution_count": 22
        }
      ]
    },
    {
      "cell_type": "code",
      "source": [
        "#range form\n",
        "num = list(range(1,6))"
      ],
      "metadata": {
        "id": "HDrqKOYMQnjT"
      },
      "execution_count": 23,
      "outputs": []
    },
    {
      "cell_type": "code",
      "source": [
        "num"
      ],
      "metadata": {
        "colab": {
          "base_uri": "https://localhost:8080/"
        },
        "id": "r7kRIh-iQ7wJ",
        "outputId": "fc7c403d-7ad1-47de-f407-6b6a7c60e7aa"
      },
      "execution_count": 24,
      "outputs": [
        {
          "output_type": "execute_result",
          "data": {
            "text/plain": [
              "[1, 2, 3, 4, 5]"
            ]
          },
          "metadata": {},
          "execution_count": 24
        }
      ]
    },
    {
      "cell_type": "markdown",
      "source": [
        "7)Write a code to append the number 10 to the list [1, 2, 3, 4]?"
      ],
      "metadata": {
        "id": "HDed1Do0Q-M4"
      }
    },
    {
      "cell_type": "code",
      "source": [
        "num = [1,2,3,4]"
      ],
      "metadata": {
        "id": "G6tUdYFzQ89v"
      },
      "execution_count": 25,
      "outputs": []
    },
    {
      "cell_type": "code",
      "source": [
        "num"
      ],
      "metadata": {
        "colab": {
          "base_uri": "https://localhost:8080/"
        },
        "id": "YhNQrOrPRJH-",
        "outputId": "c2d7dd8c-57fe-45e7-9266-8e5e2adae708"
      },
      "execution_count": 26,
      "outputs": [
        {
          "output_type": "execute_result",
          "data": {
            "text/plain": [
              "[1, 2, 3, 4]"
            ]
          },
          "metadata": {},
          "execution_count": 26
        }
      ]
    },
    {
      "cell_type": "code",
      "source": [
        "num.append(10)"
      ],
      "metadata": {
        "id": "PmPHBp37RJ0g"
      },
      "execution_count": 27,
      "outputs": []
    },
    {
      "cell_type": "code",
      "source": [
        "num"
      ],
      "metadata": {
        "colab": {
          "base_uri": "https://localhost:8080/"
        },
        "id": "3ouQuw_aRL6H",
        "outputId": "359f053f-4380-4939-f1a9-ec4d24e9a1f5"
      },
      "execution_count": 28,
      "outputs": [
        {
          "output_type": "execute_result",
          "data": {
            "text/plain": [
              "[1, 2, 3, 4, 10]"
            ]
          },
          "metadata": {},
          "execution_count": 28
        }
      ]
    },
    {
      "cell_type": "markdown",
      "source": [
        "8) Write a code to remove the number 3 from the list [1, 2, 3, 4, 5]?"
      ],
      "metadata": {
        "id": "07hG86ovRODQ"
      }
    },
    {
      "cell_type": "code",
      "source": [
        "Num = [1,2,3,4,5]"
      ],
      "metadata": {
        "id": "K4lYBc3XRMxg"
      },
      "execution_count": 29,
      "outputs": []
    },
    {
      "cell_type": "code",
      "source": [
        "Num"
      ],
      "metadata": {
        "colab": {
          "base_uri": "https://localhost:8080/"
        },
        "id": "VNU8sZYrRVHY",
        "outputId": "50210933-de75-49bf-9070-a51890c46b12"
      },
      "execution_count": 30,
      "outputs": [
        {
          "output_type": "execute_result",
          "data": {
            "text/plain": [
              "[1, 2, 3, 4, 5]"
            ]
          },
          "metadata": {},
          "execution_count": 30
        }
      ]
    },
    {
      "cell_type": "code",
      "source": [
        "Num.remove(3)"
      ],
      "metadata": {
        "id": "q11TOP1QRVkW"
      },
      "execution_count": 31,
      "outputs": []
    },
    {
      "cell_type": "code",
      "source": [
        "Num"
      ],
      "metadata": {
        "colab": {
          "base_uri": "https://localhost:8080/"
        },
        "id": "ZX_DYytLRZKX",
        "outputId": "5835a237-50cd-49e4-e719-cd02b6b0dff4"
      },
      "execution_count": 32,
      "outputs": [
        {
          "output_type": "execute_result",
          "data": {
            "text/plain": [
              "[1, 2, 4, 5]"
            ]
          },
          "metadata": {},
          "execution_count": 32
        }
      ]
    },
    {
      "cell_type": "markdown",
      "source": [
        "9)Write a code to access the second element in the list ['a', 'b', 'c', 'd']?\n"
      ],
      "metadata": {
        "id": "9gkWz9R4RbqP"
      }
    },
    {
      "cell_type": "code",
      "source": [
        "List = [\"a\",\"b\",\"c\",\"d\"]"
      ],
      "metadata": {
        "id": "crTg-ZeaRZ1_"
      },
      "execution_count": 33,
      "outputs": []
    },
    {
      "cell_type": "code",
      "source": [
        "List"
      ],
      "metadata": {
        "colab": {
          "base_uri": "https://localhost:8080/"
        },
        "id": "EJUwtlLoR2l5",
        "outputId": "94e9ad9d-505e-4ea0-ee7f-67f4e9fd4fc1"
      },
      "execution_count": 34,
      "outputs": [
        {
          "output_type": "execute_result",
          "data": {
            "text/plain": [
              "['a', 'b', 'c', 'd']"
            ]
          },
          "metadata": {},
          "execution_count": 34
        }
      ]
    },
    {
      "cell_type": "code",
      "source": [
        "List[1]"
      ],
      "metadata": {
        "colab": {
          "base_uri": "https://localhost:8080/",
          "height": 36
        },
        "id": "xX7enkugSnKu",
        "outputId": "d1e03ce6-37d6-4c05-a958-3aeca15fe885"
      },
      "execution_count": 37,
      "outputs": [
        {
          "output_type": "execute_result",
          "data": {
            "text/plain": [
              "'b'"
            ],
            "application/vnd.google.colaboratory.intrinsic+json": {
              "type": "string"
            }
          },
          "metadata": {},
          "execution_count": 37
        }
      ]
    },
    {
      "cell_type": "markdown",
      "source": [
        "10)Write a code to reverse the list [10, 20, 30, 40, 50]."
      ],
      "metadata": {
        "id": "ehbvFtpeSvW_"
      }
    },
    {
      "cell_type": "code",
      "source": [
        "Num = [10,20,30,40,50]"
      ],
      "metadata": {
        "id": "nFp9BCiISuXY"
      },
      "execution_count": 38,
      "outputs": []
    },
    {
      "cell_type": "code",
      "source": [
        "Num"
      ],
      "metadata": {
        "colab": {
          "base_uri": "https://localhost:8080/"
        },
        "id": "ZHWRYonWS3bP",
        "outputId": "231169ce-a7fe-4ab6-cab3-eae755e1f448"
      },
      "execution_count": 39,
      "outputs": [
        {
          "output_type": "execute_result",
          "data": {
            "text/plain": [
              "[10, 20, 30, 40, 50]"
            ]
          },
          "metadata": {},
          "execution_count": 39
        }
      ]
    },
    {
      "cell_type": "code",
      "source": [
        "Num.reverse()"
      ],
      "metadata": {
        "id": "tQJLGT1BS33g"
      },
      "execution_count": 40,
      "outputs": []
    },
    {
      "cell_type": "code",
      "source": [
        "Num"
      ],
      "metadata": {
        "colab": {
          "base_uri": "https://localhost:8080/"
        },
        "id": "YC5Gi011S60o",
        "outputId": "25949dd1-8d24-4f9d-b32c-cfebfb2d00d0"
      },
      "execution_count": 41,
      "outputs": [
        {
          "output_type": "execute_result",
          "data": {
            "text/plain": [
              "[50, 40, 30, 20, 10]"
            ]
          },
          "metadata": {},
          "execution_count": 41
        }
      ]
    },
    {
      "cell_type": "markdown",
      "source": [
        "11)  Write a code to create a tuple with the elements 10, 20, 30 and print it."
      ],
      "metadata": {
        "id": "ZPTwGqGBS9F_"
      }
    },
    {
      "cell_type": "code",
      "source": [
        "A = (10,20,30)"
      ],
      "metadata": {
        "id": "1iNeQswZS72P"
      },
      "execution_count": 42,
      "outputs": []
    },
    {
      "cell_type": "code",
      "source": [
        "A"
      ],
      "metadata": {
        "colab": {
          "base_uri": "https://localhost:8080/"
        },
        "id": "C4YTeEcMTFcu",
        "outputId": "f850f9dc-cc49-48ba-b037-9fb70804eb0d"
      },
      "execution_count": 43,
      "outputs": [
        {
          "output_type": "execute_result",
          "data": {
            "text/plain": [
              "(10, 20, 30)"
            ]
          },
          "metadata": {},
          "execution_count": 43
        }
      ]
    },
    {
      "cell_type": "markdown",
      "source": [
        "12)  Write a code to access the first element of the tuple ('apple', 'banana', 'cherry')."
      ],
      "metadata": {
        "id": "9FJlOVrwTH6f"
      }
    },
    {
      "cell_type": "code",
      "source": [
        "Fruits = (\"apple\",\"banana\",\"cherry\")"
      ],
      "metadata": {
        "id": "4TesqTS9TGBg"
      },
      "execution_count": 44,
      "outputs": []
    },
    {
      "cell_type": "code",
      "source": [
        "Fruits[0]"
      ],
      "metadata": {
        "colab": {
          "base_uri": "https://localhost:8080/",
          "height": 36
        },
        "id": "0PrxPih8TOVS",
        "outputId": "c090a5e9-db29-4bb1-ac48-50c312bff30a"
      },
      "execution_count": 46,
      "outputs": [
        {
          "output_type": "execute_result",
          "data": {
            "text/plain": [
              "'apple'"
            ],
            "application/vnd.google.colaboratory.intrinsic+json": {
              "type": "string"
            }
          },
          "metadata": {},
          "execution_count": 46
        }
      ]
    },
    {
      "cell_type": "markdown",
      "source": [
        "13) Write a code to count how many times the number 2 appears in the tuple (1, 2, 3, 2, 4, 2)."
      ],
      "metadata": {
        "id": "48lFSdT6TV5m"
      }
    },
    {
      "cell_type": "code",
      "source": [
        "NUM = (1,2,3,2,4,2)"
      ],
      "metadata": {
        "id": "ysMbmf2_TSaQ"
      },
      "execution_count": 47,
      "outputs": []
    },
    {
      "cell_type": "code",
      "source": [
        "NUM"
      ],
      "metadata": {
        "colab": {
          "base_uri": "https://localhost:8080/"
        },
        "id": "sQY9UgjzTeuv",
        "outputId": "53e5c7d4-f5ef-40bf-e7c5-3fd5e9d53663"
      },
      "execution_count": 48,
      "outputs": [
        {
          "output_type": "execute_result",
          "data": {
            "text/plain": [
              "(1, 2, 3, 2, 4, 2)"
            ]
          },
          "metadata": {},
          "execution_count": 48
        }
      ]
    },
    {
      "cell_type": "code",
      "source": [
        "NUM.count(2)"
      ],
      "metadata": {
        "colab": {
          "base_uri": "https://localhost:8080/"
        },
        "id": "kDCR-bO6Tf5w",
        "outputId": "89199d77-0d36-45e5-a061-c0b797247c5d"
      },
      "execution_count": 49,
      "outputs": [
        {
          "output_type": "execute_result",
          "data": {
            "text/plain": [
              "3"
            ]
          },
          "metadata": {},
          "execution_count": 49
        }
      ]
    },
    {
      "cell_type": "markdown",
      "source": [
        "14)Write a code to find the index of the element \"cat\" in the tuple ('dog', 'cat', 'rabbit')."
      ],
      "metadata": {
        "id": "_WMcyA0OTjj_"
      }
    },
    {
      "cell_type": "code",
      "source": [
        "Animals = (\"dog\",\"cat\",\"rabbit\")"
      ],
      "metadata": {
        "id": "E3dh9ybdTiUI"
      },
      "execution_count": 50,
      "outputs": []
    },
    {
      "cell_type": "code",
      "source": [
        "Animals\n"
      ],
      "metadata": {
        "colab": {
          "base_uri": "https://localhost:8080/"
        },
        "id": "d3sxYngoTun-",
        "outputId": "44cdd363-eb27-4760-d6c6-f0a74798a4d0"
      },
      "execution_count": 51,
      "outputs": [
        {
          "output_type": "execute_result",
          "data": {
            "text/plain": [
              "('dog', 'cat', 'rabbit')"
            ]
          },
          "metadata": {},
          "execution_count": 51
        }
      ]
    },
    {
      "cell_type": "code",
      "source": [
        "Animals.index(\"cat\")"
      ],
      "metadata": {
        "colab": {
          "base_uri": "https://localhost:8080/"
        },
        "id": "gIvWp9ZBTwEo",
        "outputId": "0a86e53f-2e5b-4627-b2b9-ae14fa542b1d"
      },
      "execution_count": 52,
      "outputs": [
        {
          "output_type": "execute_result",
          "data": {
            "text/plain": [
              "1"
            ]
          },
          "metadata": {},
          "execution_count": 52
        }
      ]
    },
    {
      "cell_type": "markdown",
      "source": [
        "15) Write a code to check if the element \"banana\" is in the tuple ('apple', 'orange', 'banana')."
      ],
      "metadata": {
        "id": "tNGO6zHXT2eO"
      }
    },
    {
      "cell_type": "code",
      "source": [
        "Fruits = (\"apple\",\"orange\",\"banana\")\n",
        "Fruits"
      ],
      "metadata": {
        "colab": {
          "base_uri": "https://localhost:8080/"
        },
        "id": "OMAcWnopT0G4",
        "outputId": "7c299e63-c01e-4a8b-c688-dd285f4772a7"
      },
      "execution_count": 53,
      "outputs": [
        {
          "output_type": "execute_result",
          "data": {
            "text/plain": [
              "('apple', 'orange', 'banana')"
            ]
          },
          "metadata": {},
          "execution_count": 53
        }
      ]
    },
    {
      "cell_type": "code",
      "source": [
        "\"banana\" in Fruits"
      ],
      "metadata": {
        "colab": {
          "base_uri": "https://localhost:8080/"
        },
        "id": "3tVs6dd1UBmQ",
        "outputId": "0cce1cd3-2d6b-4c5b-dca2-447d4c03d549"
      },
      "execution_count": 54,
      "outputs": [
        {
          "output_type": "execute_result",
          "data": {
            "text/plain": [
              "True"
            ]
          },
          "metadata": {},
          "execution_count": 54
        }
      ]
    },
    {
      "cell_type": "markdown",
      "source": [
        "16)Write a code to create a set with the elements 1, 2, 3, 4, 5 and print it.\n",
        "\n"
      ],
      "metadata": {
        "id": "x4eNo-F-UH0g"
      }
    },
    {
      "cell_type": "code",
      "source": [
        "num = {1,2,3,4,5}"
      ],
      "metadata": {
        "id": "PqHwPFR8UFDo"
      },
      "execution_count": 55,
      "outputs": []
    },
    {
      "cell_type": "code",
      "source": [
        "num"
      ],
      "metadata": {
        "colab": {
          "base_uri": "https://localhost:8080/"
        },
        "id": "PZBWa233UQtw",
        "outputId": "6fb98c0d-bf18-4cc2-ebec-2297f05c5f36"
      },
      "execution_count": 56,
      "outputs": [
        {
          "output_type": "execute_result",
          "data": {
            "text/plain": [
              "{1, 2, 3, 4, 5}"
            ]
          },
          "metadata": {},
          "execution_count": 56
        }
      ]
    },
    {
      "cell_type": "markdown",
      "source": [
        "17)Write a code to add the element 6 to the set {1, 2, 3, 4}."
      ],
      "metadata": {
        "id": "2CdncWytUUBX"
      }
    },
    {
      "cell_type": "code",
      "source": [
        "num = {1,2,3,4}"
      ],
      "metadata": {
        "id": "aPUZG4jQURiB"
      },
      "execution_count": 57,
      "outputs": []
    },
    {
      "cell_type": "code",
      "source": [
        "num.add(6)"
      ],
      "metadata": {
        "id": "0j3CKVDRUbXX"
      },
      "execution_count": 58,
      "outputs": []
    },
    {
      "cell_type": "code",
      "source": [
        "num"
      ],
      "metadata": {
        "colab": {
          "base_uri": "https://localhost:8080/"
        },
        "id": "rBDAgShUUdEG",
        "outputId": "287a3a33-436c-4f96-f9de-1e6ff3626905"
      },
      "execution_count": 59,
      "outputs": [
        {
          "output_type": "execute_result",
          "data": {
            "text/plain": [
              "{1, 2, 3, 4, 6}"
            ]
          },
          "metadata": {},
          "execution_count": 59
        }
      ]
    },
    {
      "cell_type": "markdown",
      "source": [
        "18) Write a code to create a tuple with the elements 10, 20, 30 and print it."
      ],
      "metadata": {
        "id": "MN9HTKSpUfX3"
      }
    },
    {
      "cell_type": "code",
      "source": [
        "Tuple = (10,20,30)"
      ],
      "metadata": {
        "id": "hkDZ-buKUd0P"
      },
      "execution_count": 60,
      "outputs": []
    },
    {
      "cell_type": "code",
      "source": [
        "Tuple"
      ],
      "metadata": {
        "colab": {
          "base_uri": "https://localhost:8080/"
        },
        "id": "-pYbdB65UoSQ",
        "outputId": "960a938d-d944-4b85-d3c4-3ff4b70985ed"
      },
      "execution_count": 61,
      "outputs": [
        {
          "output_type": "execute_result",
          "data": {
            "text/plain": [
              "(10, 20, 30)"
            ]
          },
          "metadata": {},
          "execution_count": 61
        }
      ]
    },
    {
      "cell_type": "markdown",
      "source": [
        "19)Write a code to access the first element of the tuple ('apple', 'banana', 'cherry')."
      ],
      "metadata": {
        "id": "Y-cpCxblUqBg"
      }
    },
    {
      "cell_type": "code",
      "source": [
        "fruits = (\"apple\",\"banana\",\"cherry\")"
      ],
      "metadata": {
        "id": "TCxgIdbMUpJ3"
      },
      "execution_count": 62,
      "outputs": []
    },
    {
      "cell_type": "code",
      "source": [
        "fruits[0]"
      ],
      "metadata": {
        "colab": {
          "base_uri": "https://localhost:8080/",
          "height": 36
        },
        "id": "-Dt4pQUjU5oI",
        "outputId": "82241270-1203-4fb7-cbb0-7c5d5f96708a"
      },
      "execution_count": 63,
      "outputs": [
        {
          "output_type": "execute_result",
          "data": {
            "text/plain": [
              "'apple'"
            ],
            "application/vnd.google.colaboratory.intrinsic+json": {
              "type": "string"
            }
          },
          "metadata": {},
          "execution_count": 63
        }
      ]
    },
    {
      "cell_type": "markdown",
      "source": [
        "20)Write a code to count how many times the number 2 appears in the tuple (1, 2, 3, 2, 4, 2)"
      ],
      "metadata": {
        "id": "Cr55-G9PU-XW"
      }
    },
    {
      "cell_type": "code",
      "source": [
        "num = (1,2,3,2,4,2)"
      ],
      "metadata": {
        "id": "2uaosT7uU8WH"
      },
      "execution_count": 64,
      "outputs": []
    },
    {
      "cell_type": "code",
      "source": [
        "num.count(2)"
      ],
      "metadata": {
        "colab": {
          "base_uri": "https://localhost:8080/"
        },
        "id": "BWTpA_jdVEvh",
        "outputId": "f9c1cbfc-0e39-4cdb-b87b-addd0a51e9c6"
      },
      "execution_count": 65,
      "outputs": [
        {
          "output_type": "execute_result",
          "data": {
            "text/plain": [
              "3"
            ]
          },
          "metadata": {},
          "execution_count": 65
        }
      ]
    },
    {
      "cell_type": "markdown",
      "source": [
        "21) Write a code to find the index of the element \"cat\" in the tuple ('dog', 'cat', 'rabbit')."
      ],
      "metadata": {
        "id": "Aadzl3ChVMzX"
      }
    },
    {
      "cell_type": "code",
      "source": [
        "animals = (\"dog\",\"cat\",\"rabbit\")"
      ],
      "metadata": {
        "id": "Uc9IeYXaVKYI"
      },
      "execution_count": 67,
      "outputs": []
    },
    {
      "cell_type": "code",
      "source": [
        "animals.index(\"cat\")"
      ],
      "metadata": {
        "colab": {
          "base_uri": "https://localhost:8080/"
        },
        "id": "TCafEvJ1VQrX",
        "outputId": "239fd37c-ae17-439e-c6a4-a331de6d3c3d"
      },
      "execution_count": 68,
      "outputs": [
        {
          "output_type": "execute_result",
          "data": {
            "text/plain": [
              "1"
            ]
          },
          "metadata": {},
          "execution_count": 68
        }
      ]
    },
    {
      "cell_type": "markdown",
      "source": [
        "22)Write a code to check if the element \"banana\" is in the tuple ('apple', 'orange', 'banana')."
      ],
      "metadata": {
        "id": "6Zg44M4SVVIX"
      }
    },
    {
      "cell_type": "code",
      "source": [
        "Fruits = (\"apple\",\"orange\",\"banana\")"
      ],
      "metadata": {
        "id": "D0MHWYN7VTuv"
      },
      "execution_count": 69,
      "outputs": []
    },
    {
      "cell_type": "code",
      "source": [
        "\"banana\" in Fruits"
      ],
      "metadata": {
        "colab": {
          "base_uri": "https://localhost:8080/"
        },
        "id": "LE_zg-GEVbIA",
        "outputId": "b7ce9557-efb3-41cc-bbe2-583c4688ab91"
      },
      "execution_count": 70,
      "outputs": [
        {
          "output_type": "execute_result",
          "data": {
            "text/plain": [
              "True"
            ]
          },
          "metadata": {},
          "execution_count": 70
        }
      ]
    },
    {
      "cell_type": "markdown",
      "source": [
        "23)Write a code to create a set with the elements 1, 2, 3, 4, 5 and print it."
      ],
      "metadata": {
        "id": "nkV6hp3RVjvv"
      }
    },
    {
      "cell_type": "code",
      "source": [
        "Set = {1,2,3,4,5}"
      ],
      "metadata": {
        "id": "e5ICy0caVen4"
      },
      "execution_count": 71,
      "outputs": []
    },
    {
      "cell_type": "code",
      "source": [
        "Set"
      ],
      "metadata": {
        "colab": {
          "base_uri": "https://localhost:8080/"
        },
        "id": "A6AF_OzcVp2Y",
        "outputId": "4cf780b3-4dbe-44a3-9135-3525f2e782d5"
      },
      "execution_count": 72,
      "outputs": [
        {
          "output_type": "execute_result",
          "data": {
            "text/plain": [
              "{1, 2, 3, 4, 5}"
            ]
          },
          "metadata": {},
          "execution_count": 72
        }
      ]
    },
    {
      "cell_type": "markdown",
      "source": [
        "24)Write a code to add the element 6 to the set {1, 2, 3, 4}."
      ],
      "metadata": {
        "id": "MOoaWMERVsfX"
      }
    },
    {
      "cell_type": "code",
      "source": [
        "num = {1,2,3,4}"
      ],
      "metadata": {
        "id": "sfo29d4_Vq1o"
      },
      "execution_count": 73,
      "outputs": []
    },
    {
      "cell_type": "code",
      "source": [
        "num.add(6)"
      ],
      "metadata": {
        "id": "s5i_h98hVy9v"
      },
      "execution_count": 74,
      "outputs": []
    },
    {
      "cell_type": "code",
      "source": [
        "num"
      ],
      "metadata": {
        "id": "Xng1VDudV2pe",
        "outputId": "e8d26b4f-450b-460a-defa-50474790c299",
        "colab": {
          "base_uri": "https://localhost:8080/"
        }
      },
      "execution_count": 75,
      "outputs": [
        {
          "output_type": "execute_result",
          "data": {
            "text/plain": [
              "{1, 2, 3, 4, 6}"
            ]
          },
          "metadata": {},
          "execution_count": 75
        }
      ]
    },
    {
      "cell_type": "code",
      "source": [],
      "metadata": {
        "id": "QfIAzmwwV3Vo"
      },
      "execution_count": null,
      "outputs": []
    }
  ]
}